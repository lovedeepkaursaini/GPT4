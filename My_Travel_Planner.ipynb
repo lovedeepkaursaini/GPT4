{
  "cells": [
    {
      "cell_type": "markdown",
      "metadata": {
        "id": "view-in-github",
        "colab_type": "text"
      },
      "source": [
        "<a href=\"https://colab.research.google.com/github/lovedeepkaursaini/GPT4/blob/main/My_Travel_Planner.ipynb\" target=\"_parent\"><img src=\"https://colab.research.google.com/assets/colab-badge.svg\" alt=\"Open In Colab\"/></a>"
      ]
    },
    {
      "cell_type": "markdown",
      "id": "4036a12b",
      "metadata": {
        "id": "4036a12b"
      },
      "source": [
        "# Travel Planner -  ChatBot \n"
      ]
    },
    {
      "cell_type": "code",
      "execution_count": null,
      "id": "5780f319",
      "metadata": {
        "id": "5780f319"
      },
      "outputs": [],
      "source": [
        "import openai\n",
        "import os\n",
        "openai.api_key='sk-'"
      ]
    },
    {
      "cell_type": "code",
      "source": [
        "class ChatBot:\n",
        "    \n",
        "    def __init__(self, system_prompt):\n",
        "        \"\"\"\n",
        "        system_prompt: str, Provides context for the Chat Assistant\n",
        "        \"\"\"\n",
        "        self.system = system_prompt\n",
        "        self.messages = [{\"role\": \"system\", \"content\": system_prompt}]\n",
        "        \n",
        "    \n",
        "    def start_chat(self):\n",
        "        \"\"\"\n",
        "        Manages dialogue history and accepts user input\n",
        "        \"\"\"\n",
        "        print('To end the conversation, type END')\n",
        "        question = ''\n",
        "        while question != 'END':\n",
        "            # Get user question\n",
        "            question = input(\"\")\n",
        "\n",
        "            # Add to messages/dialogue history\n",
        "            self.messages.append({'role': 'user', 'content': question})\n",
        "\n",
        "            # Send to ChatGPT and receive response\n",
        "            response = openai.ChatCompletion.create(\n",
        "                model=\"gpt-3.5-turbo\",\n",
        "                messages=self.messages)\n",
        "\n",
        "            # Extract content from assistant reply\n",
        "            content = response['choices'][0]['message']['content']\n",
        "            print('\\n')\n",
        "            print(content)\n",
        "            print('\\n')\n",
        "            \n",
        "            # Add assistant reply to dialogue history\n",
        "            self.messages.append({'role': 'assistant', 'content': content})"
      ],
      "metadata": {
        "id": "K64vYryr_6FY"
      },
      "id": "K64vYryr_6FY",
      "execution_count": null,
      "outputs": []
    },
    {
      "cell_type": "code",
      "execution_count": null,
      "id": "6c1a30a4",
      "metadata": {
        "id": "6c1a30a4"
      },
      "outputs": [],
      "source": [
        "travel_planner = ChatBot(system_prompt=\"You are an expert in planning road trips in USA\")"
      ]
    },
    {
      "cell_type": "code",
      "execution_count": null,
      "id": "931ed58f",
      "metadata": {
        "scrolled": false,
        "id": "931ed58f"
      },
      "outputs": [],
      "source": [
        "travel_planner.start_chat()"
      ]
    }
  ],
  "metadata": {
    "kernelspec": {
      "display_name": "Python 3 (ipykernel)",
      "language": "python",
      "name": "python3"
    },
    "language_info": {
      "codemirror_mode": {
        "name": "ipython",
        "version": 3
      },
      "file_extension": ".py",
      "mimetype": "text/x-python",
      "name": "python",
      "nbconvert_exporter": "python",
      "pygments_lexer": "ipython3",
      "version": "3.9.12"
    },
    "colab": {
      "provenance": [],
      "include_colab_link": true
    }
  },
  "nbformat": 4,
  "nbformat_minor": 5
}